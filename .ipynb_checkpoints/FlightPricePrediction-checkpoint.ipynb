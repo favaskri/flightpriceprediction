{
 "cells": [
  {
   "cell_type": "code",
   "execution_count": null,
   "id": "a10cd9e5",
   "metadata": {},
   "outputs": [],
   "source": [
    "# import library\n",
    "import pandas as pd\n",
    "import numpy as np\n",
    "from matplotlib import pyplot as plt\n",
    "import seaborn as sns\n",
    "import warnings \n",
    "\n",
    "from sklearn.multiclass import OneVsRestClassifier\n",
    "from sklearn.linear_model import LogisticRegression\n",
    "from sklearn.model_selection import train_test_split\n",
    "from sklearn.metrics import roc_curve\n",
    "from sklearn.metrics import roc_auc_score\n",
    "\n",
    "%matplotlib inline\n",
    "warnings.filterwarnings('ignore')"
   ]
  },
  {
   "cell_type": "code",
   "execution_count": null,
   "id": "ff64f32d",
   "metadata": {
    "scrolled": true
   },
   "outputs": [],
   "source": [
    "# Read the data and display\n",
    "import pandas as pd\n",
    "df=pd.read_excel('Flight_Fare.xlsx')\n",
    "df.head()"
   ]
  },
  {
   "cell_type": "code",
   "execution_count": null,
   "id": "f464d443",
   "metadata": {},
   "outputs": [],
   "source": [
    "df.shape"
   ]
  },
  {
   "cell_type": "code",
   "execution_count": null,
   "id": "dc8a8e49",
   "metadata": {},
   "outputs": [],
   "source": [
    "df.info()"
   ]
  },
  {
   "cell_type": "code",
   "execution_count": null,
   "id": "429bbc63",
   "metadata": {},
   "outputs": [],
   "source": [
    "df.columns"
   ]
  },
  {
   "cell_type": "code",
   "execution_count": null,
   "id": "673578d4",
   "metadata": {},
   "outputs": [],
   "source": [
    "df.isnull().sum()"
   ]
  },
  {
   "cell_type": "code",
   "execution_count": null,
   "id": "0791f87f",
   "metadata": {},
   "outputs": [],
   "source": []
  },
  {
   "cell_type": "code",
   "execution_count": null,
   "id": "75496f4c",
   "metadata": {},
   "outputs": [],
   "source": [
    "# Here only two missing value\n",
    "# Subsitute the missing value with Mode\n",
    "df.loc[df.Route.isnull()==True,'Route']='DEL → BOM → COK' #df.Route.mode()\n",
    "df.loc[df.Total_Stops.isnull()==True,'Total_Stops']='1 stop' #df.Total_Stops.mode()"
   ]
  },
  {
   "cell_type": "code",
   "execution_count": null,
   "id": "06f176cb",
   "metadata": {},
   "outputs": [],
   "source": [
    "df.isnull().sum()"
   ]
  },
  {
   "cell_type": "code",
   "execution_count": null,
   "id": "186320ef",
   "metadata": {},
   "outputs": [],
   "source": [
    "df.Price.value_counts()    # Our target variable is price and data set is imbalanced"
   ]
  },
  {
   "cell_type": "code",
   "execution_count": null,
   "id": "0c560f60",
   "metadata": {},
   "outputs": [],
   "source": [
    "var=['Airline',  'Source', 'Destination',  'Total_Stops',]\n",
    "# des_var=df.columns\n",
    "plt.figure(figsize=(7, 5))\n",
    "for i in var :\n",
    "    ax =sns.countplot(x=i,data=df )\n",
    "    plt.xticks(size =12)\n",
    "    plt.xlabel(i, size = 14)\n",
    "    plt.yticks(size = 12)\n",
    "    #plt.ylabel('Price Range', size = 12)\n",
    "    plt.title(\"Flight Data\", size=16)\n",
    "    ax.set_xticklabels(ax.get_xticklabels(), rotation=90, ha=\"right\")\n",
    "    \n",
    "    total = len(df)\n",
    "    for p in ax.patches:\n",
    "        percentage = f'{100 * p.get_height() / total:.1f}%\\n'\n",
    "        x = p.get_x() + p.get_width() / 2\n",
    "        y = p.get_height()\n",
    "        ax.annotate(percentage, (x, y), ha='center', va='center')\n",
    "    plt.tight_layout()\n",
    "    \n",
    "    plt.show()"
   ]
  },
  {
   "cell_type": "markdown",
   "id": "6e60d6dc",
   "metadata": {},
   "source": [
    "#### This data set Jet Airways have highest number of service (36% of toatal service). \n",
    "#### Delhi is top in source place (42.5%) and Cochin is top in the destination place(42.5)\n",
    "#### 52.7 % Flight services have 1 stop and 32.7% flight are non stop"
   ]
  },
  {
   "cell_type": "markdown",
   "id": "e699b96c",
   "metadata": {},
   "source": [
    "### Access data and month from ' Date of Journy'"
   ]
  },
  {
   "cell_type": "code",
   "execution_count": null,
   "id": "33047eff",
   "metadata": {},
   "outputs": [],
   "source": [
    "df['Journey_Day']=pd.to_datetime(df['Date_of_Journey']).dt.day\n",
    "df['Journey_Month']=pd.to_datetime(df['Date_of_Journey']).dt.month\n"
   ]
  },
  {
   "cell_type": "code",
   "execution_count": null,
   "id": "1ca8039b",
   "metadata": {},
   "outputs": [],
   "source": [
    "df['Journey_Month']"
   ]
  },
  {
   "cell_type": "code",
   "execution_count": null,
   "id": "e75ef77d",
   "metadata": {},
   "outputs": [],
   "source": [
    "df.head()"
   ]
  },
  {
   "cell_type": "code",
   "execution_count": null,
   "id": "6ac6dc71",
   "metadata": {},
   "outputs": [],
   "source": [
    "date_var=['Journey_Day','Journey_Month']\n",
    "# des_var=df.columns\n",
    "plt.figure(figsize=(7, 5))\n",
    "for i in date_var :\n",
    "    ax =sns.countplot(x=i,data=df )\n",
    "    plt.xticks(size =12)\n",
    "    plt.xlabel(i, size = 14)\n",
    "    plt.yticks(size = 12)\n",
    "    #plt.ylabel('Price Range', size = 12)\n",
    "    plt.title(\"Flight Data\", size=16)\n",
    "    ax.set_xticklabels(ax.get_xticklabels(), rotation=90, ha=\"right\")\n",
    "    \n",
    "    total = len(df)\n",
    "    for p in ax.patches:\n",
    "        percentage = f'{100 * p.get_height() / total:.1f}%\\n'\n",
    "        x = p.get_x() + p.get_width() / 2\n",
    "        y = p.get_height()\n",
    "        ax.annotate(percentage, (x, y), ha='center', va='center')\n",
    "    plt.tight_layout()\n",
    "    \n",
    "    plt.show()"
   ]
  },
  {
   "cell_type": "markdown",
   "id": "2ebef013",
   "metadata": {},
   "source": [
    "### Here we can see the highest service in the data the first two weeks .March ,May and June are Top services in month April is in bottom"
   ]
  },
  {
   "cell_type": "code",
   "execution_count": null,
   "id": "52684826",
   "metadata": {},
   "outputs": [],
   "source": [
    "df.drop('Date_of_Journey',axis=1,inplace=True)"
   ]
  },
  {
   "cell_type": "code",
   "execution_count": null,
   "id": "587eb945",
   "metadata": {},
   "outputs": [],
   "source": [
    "df.shape"
   ]
  },
  {
   "cell_type": "code",
   "execution_count": null,
   "id": "0c8e3ea3",
   "metadata": {},
   "outputs": [],
   "source": [
    "df['Dep_Hour']=pd.to_datetime(df['Dep_Time']).dt.hour\n",
    "df['Dep_Min']=pd.to_datetime(df['Dep_Time']).dt.minute"
   ]
  },
  {
   "cell_type": "code",
   "execution_count": null,
   "id": "3f8f6ba8",
   "metadata": {},
   "outputs": [],
   "source": [
    "df.head()"
   ]
  },
  {
   "cell_type": "code",
   "execution_count": null,
   "id": "c31afad1",
   "metadata": {},
   "outputs": [],
   "source": [
    "df.drop('Dep_Time',axis=1,inplace=True)"
   ]
  },
  {
   "cell_type": "code",
   "execution_count": null,
   "id": "bc4b9313",
   "metadata": {},
   "outputs": [],
   "source": [
    "df.head()"
   ]
  },
  {
   "cell_type": "code",
   "execution_count": null,
   "id": "d49d2cf0",
   "metadata": {},
   "outputs": [],
   "source": [
    "time_var=['Dep_Hour','Dep_Min']\n",
    "# des_var=df.columns\n",
    "plt.figure(figsize=(7, 5))\n",
    "for i in time_var :\n",
    "    ax =sns.countplot(x=i,data=df )\n",
    "    plt.xticks(size =12)\n",
    "    plt.xlabel(i, size = 14)\n",
    "    plt.yticks(size = 12)\n",
    "    #plt.ylabel('Price Range', size = 12)\n",
    "    plt.title(\"Flight Data\", size=16)\n",
    "    ax.set_xticklabels(ax.get_xticklabels(), rotation=90, ha=\"right\")\n",
    "    \n",
    "    total = len(df)\n",
    "    for p in ax.patches:\n",
    "        percentage = f'{100 * p.get_height() / total:.1f}%\\n'\n",
    "        x = p.get_x() + p.get_width() / 2\n",
    "        y = p.get_height()\n",
    "        ax.annotate(percentage, (x, y), ha='center', va='center')\n",
    "    plt.tight_layout()\n",
    "    \n",
    "    plt.show()"
   ]
  },
  {
   "cell_type": "markdown",
   "id": "a3b4cc64",
   "metadata": {},
   "source": [
    "####  Here we can see Peek time is 6am to 9am"
   ]
  },
  {
   "cell_type": "code",
   "execution_count": null,
   "id": "9ccb4a5c",
   "metadata": {
    "scrolled": true
   },
   "outputs": [],
   "source": [
    "sns.catplot(x='Source',y='Price',data=df.sort_values('Price',ascending=False),kind='box',aspect=3,height=6)"
   ]
  },
  {
   "cell_type": "code",
   "execution_count": null,
   "id": "66ad9787",
   "metadata": {},
   "outputs": [],
   "source": [
    "sns.catplot(x='Airline',y='Price',data=df.sort_values('Price',ascending=False),kind='box',aspect=3,height=6)"
   ]
  },
  {
   "cell_type": "code",
   "execution_count": null,
   "id": "29741469",
   "metadata": {},
   "outputs": [],
   "source": [
    "sns.catplot(x='Destination',y='Price',data=df.sort_values('Price',ascending=False),kind='box',aspect=3,height=6)"
   ]
  },
  {
   "cell_type": "code",
   "execution_count": null,
   "id": "2375d3f5",
   "metadata": {},
   "outputs": [],
   "source": [
    "df['Arrival_Hour']=pd.to_datetime(df['Arrival_Time']).dt.hour\n",
    "df['Arrival_Min']=pd.to_datetime(df['Arrival_Time']).dt.minute"
   ]
  },
  {
   "cell_type": "code",
   "execution_count": null,
   "id": "78d22088",
   "metadata": {},
   "outputs": [],
   "source": [
    "df.drop(['Arrival_Time'],axis=1,inplace=True)"
   ]
  },
  {
   "cell_type": "code",
   "execution_count": null,
   "id": "96523019",
   "metadata": {},
   "outputs": [],
   "source": [
    "df.head()"
   ]
  },
  {
   "cell_type": "code",
   "execution_count": null,
   "id": "d409f1ac",
   "metadata": {
    "scrolled": true
   },
   "outputs": [],
   "source": [
    "df.Duration.head()"
   ]
  },
  {
   "cell_type": "code",
   "execution_count": null,
   "id": "98216b13",
   "metadata": {},
   "outputs": [],
   "source": [
    "\n",
    "\n",
    "# Split the duration column into two separate columns\n",
    "df[['Duration_hour', 'Duration_minute']] = df['Duration'].str.split(\"h\", expand=True)\n",
    "\n",
    "# Replace any non-numeric values in the hour column with 0\n",
    "df['Duration_hour'] = df['Duration_hour'].apply(lambda x: 0 if not x.isnumeric() else x)\n",
    "\n",
    "# Convert the hour column to integer data type\n",
    "df['Duration_hour'] = df['Duration_hour'].astype(int)\n",
    "\n",
    "# Remove the \"m\" character from the minute column\n",
    "df['Duration_minute'] = df['Duration_minute'].str.replace(\"m\", \"\")\n",
    "\n",
    "\n",
    "df['Duration_minute'] = pd.to_numeric(df['Duration_minute'], errors='coerce').fillna(0).astype(int)\n",
    "\n",
    "\n",
    "# Convert the minute column to integer data type\n",
    "df['Duration_minute'] = df['Duration_minute'].astype(int)\n",
    "\n"
   ]
  },
  {
   "cell_type": "code",
   "execution_count": null,
   "id": "8866a08f",
   "metadata": {},
   "outputs": [],
   "source": [
    "df.drop(['Duration'],axis=1,inplace=True)"
   ]
  },
  {
   "cell_type": "code",
   "execution_count": null,
   "id": "9c7b7c99",
   "metadata": {},
   "outputs": [],
   "source": [
    "df.head()"
   ]
  },
  {
   "cell_type": "markdown",
   "id": "e7efd78b",
   "metadata": {},
   "source": [
    "## Handling Categorical Data"
   ]
  },
  {
   "cell_type": "code",
   "execution_count": null,
   "id": "a0928ba3",
   "metadata": {},
   "outputs": [],
   "source": [
    "df.Airline.value_counts()  # Total 12 Flights Jet Airways have highest service"
   ]
  },
  {
   "cell_type": "code",
   "execution_count": null,
   "id": "813d5ca7",
   "metadata": {},
   "outputs": [],
   "source": [
    "Airline=df['Airline']\n",
    "Airline=pd.get_dummies(Airline,drop_first=True)\n",
    "Airline.head()"
   ]
  },
  {
   "cell_type": "code",
   "execution_count": null,
   "id": "e37663c9",
   "metadata": {},
   "outputs": [],
   "source": [
    "df.Source.value_counts()"
   ]
  },
  {
   "cell_type": "code",
   "execution_count": null,
   "id": "763cfc41",
   "metadata": {},
   "outputs": [],
   "source": [
    "Source=df['Source']\n",
    "Source=pd.get_dummies(Source,drop_first=True)\n",
    "Source.head()"
   ]
  },
  {
   "cell_type": "code",
   "execution_count": null,
   "id": "089ad036",
   "metadata": {},
   "outputs": [],
   "source": [
    "Destination=df['Destination']\n",
    "Destination=pd.get_dummies(Destination,drop_first=True)\n",
    "Destination.head()"
   ]
  },
  {
   "cell_type": "code",
   "execution_count": null,
   "id": "1bc8f2aa",
   "metadata": {},
   "outputs": [],
   "source": [
    "# Encode the categorical variable using .factorize()\n",
    "df['Total_Stops'] = df['Total_Stops'].factorize()[0]\n",
    "df.Total_Stops.value_counts()"
   ]
  },
  {
   "cell_type": "code",
   "execution_count": null,
   "id": "3988ce62",
   "metadata": {},
   "outputs": [],
   "source": [
    "df.drop(['Route','Additional_Info'],axis=1,inplace=True)"
   ]
  },
  {
   "cell_type": "code",
   "execution_count": null,
   "id": "4152ffb0",
   "metadata": {},
   "outputs": [],
   "source": [
    "df.head()"
   ]
  },
  {
   "cell_type": "code",
   "execution_count": null,
   "id": "55032c9d",
   "metadata": {},
   "outputs": [],
   "source": [
    "df_train=pd.concat([df,Airline,Source,Destination],axis=1)\n",
    "df_train.head()"
   ]
  },
  {
   "cell_type": "code",
   "execution_count": null,
   "id": "6bc58642",
   "metadata": {},
   "outputs": [],
   "source": []
  },
  {
   "cell_type": "code",
   "execution_count": null,
   "id": "8970de77",
   "metadata": {},
   "outputs": [],
   "source": [
    "df_train.drop(['Airline','Source','Destination'],axis=1,inplace=True)"
   ]
  },
  {
   "cell_type": "code",
   "execution_count": null,
   "id": "75a71291",
   "metadata": {},
   "outputs": [],
   "source": [
    "df_train.head()"
   ]
  },
  {
   "cell_type": "code",
   "execution_count": null,
   "id": "50e88dad",
   "metadata": {},
   "outputs": [],
   "source": [
    "df_train.info()"
   ]
  },
  {
   "cell_type": "code",
   "execution_count": null,
   "id": "8a18b542",
   "metadata": {},
   "outputs": [],
   "source": [
    "df_train.shape"
   ]
  },
  {
   "cell_type": "code",
   "execution_count": null,
   "id": "d614bcbd",
   "metadata": {},
   "outputs": [],
   "source": [
    "df_train.head()"
   ]
  },
  {
   "cell_type": "code",
   "execution_count": null,
   "id": "3fcdc918",
   "metadata": {},
   "outputs": [],
   "source": []
  },
  {
   "cell_type": "code",
   "execution_count": null,
   "id": "2416759e",
   "metadata": {},
   "outputs": [],
   "source": [
    "df_train.columns"
   ]
  },
  {
   "cell_type": "code",
   "execution_count": null,
   "id": "b617a9fd",
   "metadata": {},
   "outputs": [],
   "source": [
    "# plt.figure(figsize=(10,10))\n",
    "# sns.heatmap(df_train.corr())\n",
    "# plt.show()"
   ]
  },
  {
   "cell_type": "code",
   "execution_count": null,
   "id": "6a32b5bf",
   "metadata": {},
   "outputs": [],
   "source": [
    "df.Price.value_counts()"
   ]
  },
  {
   "cell_type": "markdown",
   "id": "acbe9cd1",
   "metadata": {},
   "source": [
    "### Splitting data for training and testing"
   ]
  },
  {
   "cell_type": "code",
   "execution_count": null,
   "id": "edc06c33",
   "metadata": {},
   "outputs": [],
   "source": [
    "x=df_train.drop(['Price'],axis=1)\n",
    "y=df_train.Price\n",
    "x.head()"
   ]
  },
  {
   "cell_type": "code",
   "execution_count": null,
   "id": "f3e8b2a5",
   "metadata": {
    "scrolled": true
   },
   "outputs": [],
   "source": [
    "df_corr=df_train.copy()\n",
    "df_corr.drop([ 'Air India', 'GoAir', 'IndiGo', 'Jet Airways',\n",
    "       'Jet Airways Business', 'Multiple carriers',\n",
    "       'Multiple carriers Premium economy', 'SpiceJet', 'Trujet', 'Vistara',\n",
    "       'Vistara Premium economy', 'Chennai', 'Delhi', 'Kolkata', 'Mumbai',\n",
    "       'Cochin', 'Delhi', 'Hyderabad', 'Kolkata', 'New Delhi'],axis=1 ,inplace=True)"
   ]
  },
  {
   "cell_type": "code",
   "execution_count": null,
   "id": "b63060a6",
   "metadata": {
    "scrolled": true
   },
   "outputs": [],
   "source": [
    "plt.figure(figsize=(10,10))\n",
    "sns.heatmap(df_corr.corr(),cmap='viridis',annot=True)\n"
   ]
  },
  {
   "cell_type": "markdown",
   "id": "234020a2",
   "metadata": {},
   "source": [
    "#### Just checking the correlation between different features of training data.\n",
    "#### We can see that Total_stops is highly correlated with Duration_hours .\n",
    "#### Also, price is highly correlated with total stops ."
   ]
  },
  {
   "cell_type": "markdown",
   "id": "3c9e9846",
   "metadata": {},
   "source": [
    "### First try out the Extra tree regressor model for flight price prediction."
   ]
  },
  {
   "cell_type": "markdown",
   "id": "01ca5050",
   "metadata": {},
   "source": [
    "ExtraTree Regressor is a type of ensemble learning method in machine learning that is used for regression tasks. It is a variant of the popular Random Forest algorithm that is used for classification tasks.\n",
    "\n"
   ]
  },
  {
   "cell_type": "code",
   "execution_count": null,
   "id": "2ccfcc7f",
   "metadata": {},
   "outputs": [],
   "source": [
    "from sklearn.ensemble import ExtraTreesRegressor\n",
    "from sklearn.datasets import load_boston\n",
    "\n",
    "# # Load the Boston Housing dataset\n",
    "# x, y = load_boston(return_X_y=True)\n",
    "\n",
    "# # Create the ExtraTree Regressor model\n",
    "# model = ExtraTreesRegressor()\n",
    "\n",
    "# # Train the model using the training data\n",
    "# model.fit(X, y)\n",
    "\n",
    "# # Make predictions on the test data\n",
    "# predictions = model.predict(X_test)\n",
    "\n",
    "reg = ExtraTreesRegressor()\n",
    "reg.fit(x,y)\n",
    "print(reg.feature_importances_)"
   ]
  },
  {
   "cell_type": "code",
   "execution_count": null,
   "id": "9a58482b",
   "metadata": {
    "scrolled": true
   },
   "outputs": [],
   "source": [
    "# Checking the feature importance given by ExtraTreeRegressor.\n",
    "plt.figure(figsize = (12,8))\n",
    "feat_importances = pd.Series(reg.feature_importances_, index=x.columns)\n",
    "feat_importances.nlargest(20).plot(kind='barh')\n",
    "plt.show()"
   ]
  },
  {
   "cell_type": "markdown",
   "id": "7d3aec14",
   "metadata": {},
   "source": [
    "### Total stop is the feature with the highest feature importance in deciding price"
   ]
  },
  {
   "cell_type": "code",
   "execution_count": null,
   "id": "ca16d45c",
   "metadata": {},
   "outputs": [],
   "source": [
    "from sklearn.model_selection import train_test_split\n",
    "x_train,x_test,y_train,y_test=train_test_split(x,y,shuffle=True,test_size=0.25,random_state=42)"
   ]
  },
  {
   "cell_type": "code",
   "execution_count": null,
   "id": "cd40f6f5",
   "metadata": {},
   "outputs": [],
   "source": [
    "print('size of training feature',x_train.shape)\n",
    "print('size of testing feature',x_test.shape)\n",
    "print('size of training target',y_train.shape)\n",
    "print('size of testing target',y_test.shape)"
   ]
  },
  {
   "cell_type": "code",
   "execution_count": null,
   "id": "c227bcd4",
   "metadata": {},
   "outputs": [],
   "source": [
    "from sklearn.model_selection import RandomizedSearchCV\n",
    "from sklearn.ensemble import RandomForestRegressor\n",
    "\n",
    "\n",
    "# Number of trees in random forest\n",
    "n_estimators = [int(x) for x in np.linspace(start = 100, stop = 1200, num = 12)]\n",
    "# Number of features to consider at every split\n",
    "max_features = ['auto', 'sqrt']\n",
    "# Maximum number of levels in tree\n",
    "max_depth = [int(x) for x in np.linspace(5, 30, num = 6)]\n",
    "# Minimum number of samples required to split a node\n",
    "min_samples_split = [2, 5, 10, 15, 100]\n",
    "# Minimum number of samples required at each leaf node\n",
    "min_samples_leaf = [1, 2, 5, 10]\n",
    "random_grid = {'n_estimators': n_estimators,\n",
    "               'max_features': max_features,\n",
    "               'max_depth': max_depth,\n",
    "               'min_samples_split': min_samples_split,\n",
    "               'min_samples_leaf': min_samples_leaf}\n",
    "# Random search of parameters, using 5 fold cross validation, search across 100 different combinations\n",
    "rf_random = RandomizedSearchCV(estimator = RandomForestRegressor(), param_distributions = random_grid,\n",
    "                               scoring='neg_mean_squared_error', n_iter = 10, cv = 5, \n",
    "                               verbose=1, random_state=42, n_jobs = 1)\n",
    "rf_random.fit(x_train,y_train)"
   ]
  },
  {
   "cell_type": "code",
   "execution_count": null,
   "id": "8bd11011",
   "metadata": {},
   "outputs": [],
   "source": [
    "#confusion matrix\n",
    "from sklearn.metrics import classification_report, confusion_matrix, accuracy_score\n",
    "def my_confusion_matrix(y_test, y_pred, plt_title):\n",
    "    cm=confusion_matrix(y_test, y_pred)\n",
    "    print(classification_report(y_test, y_pred))\n",
    "    sns.heatmap(cm, annot=True, fmt='g', cbar=False, cmap='BuPu')\n",
    "    plt.xlabel('Predicted Values')\n",
    "    plt.ylabel('Actual Values')\n",
    "    plt.title(plt_title)\n",
    "    plt.show()\n",
    "    return cm"
   ]
  },
  {
   "cell_type": "code",
   "execution_count": null,
   "id": "3d8acb88",
   "metadata": {},
   "outputs": [],
   "source": []
  },
  {
   "cell_type": "code",
   "execution_count": null,
   "id": "7dc51d85",
   "metadata": {},
   "outputs": [],
   "source": [
    "# Define true labels\n",
    "from sklearn import metrics\n",
    "_\n",
    "y_pred_dt = dt.predict(x_test)\n",
    "\n",
    "dt_acc= metrics.accuracy_score(y_test,y_pred_dt )\n",
    "dt_prec= metrics.precision_score(y_test,y_pred_dt , average= 'weighted')\n",
    "dt_rec= metrics.recall_score(y_test,y_pred_dt , average= 'weighted')\n",
    "dt_f1= metrics.f1_score(y_test,y_pred_dt , average= 'weighted')\n",
    "\n",
    "print('Accuracy:', dt_acc)\n",
    "print('Precision:', dt_prec)\n",
    "print('Recall:', dt_rec)\n",
    "print('F1 Score:', dt_f1)"
   ]
  },
  {
   "cell_type": "code",
   "execution_count": null,
   "id": "ee4ae700",
   "metadata": {},
   "outputs": [],
   "source": [
    "# y_pred_dt=dt.predict(x_test)\n",
    "# print('Decision Tree Accuracy Score: ',accuracy_score(y_test,y_pred_dt))\n",
    "# cm_dt=my_confusion_matrix(y_test, y_pred_dt, 'Logistic Matrix')"
   ]
  },
  {
   "cell_type": "code",
   "execution_count": null,
   "id": "48f18f64",
   "metadata": {},
   "outputs": [],
   "source": [
    "# Random forest model\n",
    "from sklearn.ensemble import RandomForestClassifier\n",
    "\n",
    "# Building random forest model\n",
    "rf = RandomForestClassifier(bootstrap= True,\n",
    "                           max_depth= 7,\n",
    "                           max_features= 15,\n",
    "                           min_samples_leaf= 3,\n",
    "                           min_samples_split= 10,\n",
    "                           n_estimators= 200,\n",
    "                           random_state=7)\n",
    "rf.fit(x_train,y_train)"
   ]
  },
  {
   "cell_type": "code",
   "execution_count": null,
   "id": "28ef1699",
   "metadata": {},
   "outputs": [],
   "source": [
    "\n"
   ]
  },
  {
   "cell_type": "code",
   "execution_count": null,
   "id": "98640630",
   "metadata": {},
   "outputs": [],
   "source": []
  }
 ],
 "metadata": {
  "kernelspec": {
   "display_name": "Python 3 (ipykernel)",
   "language": "python",
   "name": "python3"
  },
  "language_info": {
   "codemirror_mode": {
    "name": "ipython",
    "version": 3
   },
   "file_extension": ".py",
   "mimetype": "text/x-python",
   "name": "python",
   "nbconvert_exporter": "python",
   "pygments_lexer": "ipython3",
   "version": "3.9.13"
  }
 },
 "nbformat": 4,
 "nbformat_minor": 5
}
